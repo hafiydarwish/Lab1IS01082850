{
 "cells": [
  {
   "cell_type": "code",
   "execution_count": 8,
   "id": "605b5ad4-977f-403b-a5bd-6953b2fb7cea",
   "metadata": {},
   "outputs": [
    {
     "name": "stdout",
     "output_type": "stream",
     "text": [
      "Digits found: ['2', '4', '5', '6', '7', '8', '9', '3', '4', '1', '2', '3', '0']\n"
     ]
    }
   ],
   "source": [
    "import re\n",
    "\n",
    "text1 = \"Order number: 24567, Tracking ID: 8934A12, Quantity: 30\"\n",
    "pattern1 = r\"\\d\"  # Matches individual digits\n",
    "matches1 = re.findall(pattern1, text1)\n",
    "print(\"Digits found:\", matches1)"
   ]
  },
  {
   "cell_type": "code",
   "execution_count": 10,
   "id": "d1adb9c1-b19c-4b17-9db2-18c436a49477",
   "metadata": {},
   "outputs": [
    {
     "name": "stdout",
     "output_type": "stream",
     "text": [
      "Non-alphanumeric characters: ['!', ' ', '’', ' ', ' ', ' ', '?', ' ', ' ', ' ', '@', ' ', '.']\n"
     ]
    }
   ],
   "source": [
    "import re\n",
    "\n",
    "text2 = \"Welcome! How’s your day going? Call me @ 3pm.\"\n",
    "pattern2 = r\"[^a-zA-Z0-9]\"  # Matches any character that is NOT a letter or digit\n",
    "\n",
    "matches2 = re.findall(pattern2, text2)\n",
    "print(\"Non-alphanumeric characters:\", matches2)"
   ]
  },
  {
   "cell_type": "code",
   "execution_count": 12,
   "id": "8bb1156e-01f0-499e-959e-35b6ce22dbeb",
   "metadata": {},
   "outputs": [
    {
     "name": "stdout",
     "output_type": "stream",
     "text": [
      "Split text: ['Data Science', ' AI', ' and Machine Learning', ' These fields are growing fast', '']\n"
     ]
    }
   ],
   "source": [
    "import re\n",
    "\n",
    "text3 = \"Data Science, AI, and Machine Learning. These fields are growing fast.\"\n",
    "pattern3 = r\"[,.]\"  # Matches commas and periods\n",
    "\n",
    "split_text3 = re.split(pattern3, text3)\n",
    "print(\"Split text:\", split_text3)"
   ]
  },
  {
   "cell_type": "code",
   "execution_count": 14,
   "id": "27c6a5f9-d2f1-4090-a0db-8889b00ecd83",
   "metadata": {},
   "outputs": [
    {
     "name": "stdout",
     "output_type": "stream",
     "text": [
      "Anonymized text: Contact us at [HIDDEN] or [HIDDEN]\n"
     ]
    }
   ],
   "source": [
    "import re\n",
    "\n",
    "text4 = \"Contact us at support@example.com or info@company.org\"\n",
    "pattern4 = r\"\\b[A-Za-z0-9._%+-]+@[A-Za-z0-9.-]+\\.[A-Za-z]{2,}\\b\"  # Matches email format\n",
    "\n",
    "new_text4 = re.sub(pattern4, \"[HIDDEN]\", text4)\n",
    "print(\"Anonymized text:\", new_text4)\n"
   ]
  },
  {
   "cell_type": "code",
   "execution_count": 16,
   "id": "4ce863fe-686b-4e9c-beb7-ebd46d3050db",
   "metadata": {},
   "outputs": [
    {
     "name": "stdout",
     "output_type": "stream",
     "text": [
      "Domain types: ['com', 'edu', 'org']\n"
     ]
    }
   ],
   "source": [
    "import re\n",
    "\n",
    "text5 = \"Emails: user@gmail.com, admin@university.edu, info@company.org\"\n",
    "pattern5 = r\"@[\\w.-]+\\.([a-z]{2,})\"  # Captures domain extensions\n",
    "\n",
    "matches5 = re.findall(pattern5, text5)\n",
    "print(\"Domain types:\", matches5)"
   ]
  },
  {
   "cell_type": "code",
   "execution_count": null,
   "id": "f7d100e2-7901-4812-a1da-2d3c166dd7dd",
   "metadata": {},
   "outputs": [],
   "source": []
  }
 ],
 "metadata": {
  "kernelspec": {
   "display_name": "anaconda-panel-2023.05-py310",
   "language": "python",
   "name": "conda-env-anaconda-panel-2023.05-py310-py"
  },
  "language_info": {
   "codemirror_mode": {
    "name": "ipython",
    "version": 3
   },
   "file_extension": ".py",
   "mimetype": "text/x-python",
   "name": "python",
   "nbconvert_exporter": "python",
   "pygments_lexer": "ipython3",
   "version": "3.11.5"
  }
 },
 "nbformat": 4,
 "nbformat_minor": 5
}
