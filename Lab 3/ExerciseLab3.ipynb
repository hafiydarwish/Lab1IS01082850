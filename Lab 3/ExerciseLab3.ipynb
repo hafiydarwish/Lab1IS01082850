{
 "cells": [
  {
   "cell_type": "code",
   "execution_count": 3,
   "id": "fca0b71b-9b9f-4d0a-9c49-c9ff33377481",
   "metadata": {},
   "outputs": [
    {
     "name": "stdout",
     "output_type": "stream",
     "text": [
      "Page Title: A simple example page\n",
      "Paragraph: Here is some simple content for this page.\n"
     ]
    }
   ],
   "source": [
    "import requests\n",
    "from bs4 import BeautifulSoup\n",
    "\n",
    "# URL to scrape\n",
    "url = \"https://dataquestio.github.io/web-scraping-pages/simple.html\"\n",
    "\n",
    "# Send a GET request to the webpage\n",
    "response = requests.get(url)\n",
    "\n",
    "# Check if the request was successful\n",
    "if response.status_code == 200:\n",
    "    # Parse the HTML content using BeautifulSoup\n",
    "    soup = BeautifulSoup(response.text, 'html.parser')\n",
    "\n",
    "    # Extract and print the page title\n",
    "    title = soup.title.text\n",
    "    print(\"Page Title:\", title)\n",
    "\n",
    "    # Extract and print the paragraph text\n",
    "    paragraph = soup.find('p').text\n",
    "    print(\"Paragraph:\", paragraph)\n",
    "else:\n",
    "    print(\"Failed to retrieve the page. Status code:\", response.status_code)\n"
   ]
  },
  {
   "cell_type": "code",
   "execution_count": null,
   "id": "c5ec38f5-96a8-4f9b-ac6c-4fe2ce406121",
   "metadata": {},
   "outputs": [],
   "source": []
  }
 ],
 "metadata": {
  "kernelspec": {
   "display_name": "anaconda-panel-2023.05-py310",
   "language": "python",
   "name": "conda-env-anaconda-panel-2023.05-py310-py"
  },
  "language_info": {
   "codemirror_mode": {
    "name": "ipython",
    "version": 3
   },
   "file_extension": ".py",
   "mimetype": "text/x-python",
   "name": "python",
   "nbconvert_exporter": "python",
   "pygments_lexer": "ipython3",
   "version": "3.11.5"
  }
 },
 "nbformat": 4,
 "nbformat_minor": 5
}
